{
 "cells": [
  {
   "cell_type": "markdown",
   "metadata": {},
   "source": [
    "# Robust Registration of Catalogs\n",
    "**Fan Tian, 12/01/2019** -  ftian4@jhu.edu <br/>\n",
    "\n",
    "## Description\n",
    "In this notebook, we demonstrate using the robust registration algorithm [1] to cross-match small catalogs (particularly to those of the HST images) with rotation and shift. This is the latest version of the algorithm that: \n",
    " - implements the \"ring\" algorithm, which subsets all pairs within an initial search radius $R$ into overlapping rings with a specified ring-width. <br/>\n",
    " - uses a simple annealing schedule for the astrometric uncertainty, the $\\sigma$ value.\n",
    "\n",
    "We also compare the robust estimation results with the results from the method of least-squares [2]. <br/>\n",
    "The first part of this notebook consists implementation of the algorithm on the simulated HST/ACS/WFC catalogs. The second part demonstrates the cross-registration of an HST image (from the HLA catalog) to the Gaia DR2 catalog of the same field.\n",
    "\n",
    "### Reference\n",
    "[1] Tian, F. Budavári, T. Basu, A. Lubow, S.H. & White, R.L. (2019). Robust Registration of Astronomy Catalogs with Applications to the Hubble Space Telescope. _The Astronomical Journal_. 158(5) pp. 191.\n",
    "<a href=\"https://iopscience.iop.org/article/10.3847/1538-3881/ab3f38/meta\">doi:10.3847/1538-3881/ab3f38</a>\n",
    "\n",
    "[2] Budavári, T. & Lubow, S.H. (2012).  Catalog Matching with Astrometric Correction and its Application to the Hubble Legacy Archive. _The Astrophysical Journal_. 761(2) pp.188. <a href=\"https://iopscience.iop.org/article/10.1088/0004-637X/761/2/188\">doi:10.1088/0004-637X/761/2/188</a>\n",
    "\n",
    "**Based on prototype implementations of 5/31/2018 - Tamás Budavári, and of 3/29/2019 - Rick White**"
   ]
  },
  {
   "cell_type": "code",
   "execution_count": null,
   "metadata": {},
   "outputs": [],
   "source": [
    "%matplotlib inline\n",
    "import time\n",
    "import numpy as np\n",
    "import pandas as pd\n",
    "import matplotlib.pyplot as plt\n",
    "import astropy\n",
    "\n",
    "# Set page width to fill browser for longer output lines\n",
    "from IPython.core.display import display, HTML\n",
    "display(HTML(\"<style>.container { width:100% !important; }</style>\"))\n",
    "# set width for pprint\n",
    "astropy.conf.max_width = 150"
   ]
  },
  {
   "cell_type": "code",
   "execution_count": null,
   "metadata": {},
   "outputs": [],
   "source": [
    "# import cross-registration modules\n",
    "import xregistration.simulation as sim\n",
    "import xregistration.estimation as est\n",
    "import xregistration.est_catalog as rcat"
   ]
  },
  {
   "cell_type": "code",
   "execution_count": null,
   "metadata": {},
   "outputs": [],
   "source": [
    "# global variables\n",
    "# convert units from arcseconds to radians\n",
    "arc2rad = 3600 * 180 / np.pi"
   ]
  },
  {
   "cell_type": "markdown",
   "metadata": {},
   "source": [
    "## Part 1. Simulation"
   ]
  },
  {
   "cell_type": "markdown",
   "metadata": {},
   "source": [
    "## 1. Simulate mock universe and catalogs\n",
    "- Simulate catalogs to the HST/ACS/WFC catalog with Field of View: 202\"× 202\"\n",
    "- Approxately 1500 sources"
   ]
  },
  {
   "cell_type": "code",
   "execution_count": null,
   "metadata": {},
   "outputs": [],
   "source": [
    "# Initialize image size\n",
    "size=202\n",
    "\n",
    "# Initialize uncertainty parameter - sigma\n",
    "sigma = 0.04\n",
    "\n",
    "# Set seed\n",
    "seed= 4444\n",
    "np.random.seed(seed)\n",
    "\n",
    "# Create mock universe\n",
    "m = sim.mock(1500, size) # df with index that's the objid\n",
    "\n",
    "# Create perturbed catalogs within selection interval - same size as m\n",
    "cn = [sim.cat(m,sigma,l,h) for l,h in [(0.2, 1), (0, 0.9)]] # selection intervals\n",
    "\n",
    "# Select catalogs - objid index retained\n",
    "cs = [a[a.Selected] for a in cn] \n",
    "\n",
    "# Generate random omega0 and catalog0\n",
    "omega0, c0 = sim.randomega(cs[0], scale=60)\n",
    "\n",
    "# Generate catalog1, with omega1 = -omega0\n",
    "omega1 = -1 * omega0\n",
    "c1 = sim.trf(cs[1], omega1)\n",
    "\n",
    "# transformed catalogs\n",
    "co = [c0,c1] \n",
    "\n",
    "print(\"Average offset of two catalogs before transformation: {:2.3f} arcsec\".format(sim.getsep(cs[0],cs[1],\"mean\")))\n",
    "print(\"Average offset of two catalogs after transformation: {:2.3f} arcsec\".format(sim.getsep(co[0],co[1]),\"mean\"))"
   ]
  },
  {
   "cell_type": "markdown",
   "metadata": {},
   "source": [
    "## 2. Robust Ring Estimation:\n",
    "- Cross-match pairs within rings\n",
    "- Ring seletion: width $\\approx 4\\sigma$\n",
    "- Apply $\\sigma$ convergence at initial steps of iteration\n",
    "- Stopping: $|\\omega_{t+1} - \\omega_{t}| < \\epsilon$"
   ]
  },
  {
   "cell_type": "markdown",
   "metadata": {},
   "source": [
    "### 2.1 Matched pairs within an initial search radius\n",
    "#### Find all pairs that match within _radius_ (arcsec)."
   ]
  },
  {
   "cell_type": "code",
   "execution_count": null,
   "metadata": {},
   "outputs": [],
   "source": [
    "# Initial search radius, approximately 1.1 times of the maximum offset\n",
    "radius = 1.1 * sim.getsep(co[0],co[1],\"max\")\n",
    "print(f\"search radius: {radius:.2f}\")\n",
    "\n",
    "print(f\"{co[0].shape[0]} sources in input catalog and {co[1].shape[0]} sources in reference catalog\")"
   ]
  },
  {
   "cell_type": "markdown",
   "metadata": {},
   "source": [
    "### 2.2 Fast prototype of the robust iterative solver"
   ]
  },
  {
   "cell_type": "markdown",
   "metadata": {},
   "source": [
    "Objective function: \n",
    "$$ \n",
    "    \\tilde{\\boldsymbol{\\omega}}= \n",
    "    \\arg\\min_{\\boldsymbol{\\omega}}\\sum_{q}\\,\n",
    "    \\rho\\left(\\frac{ \\left|\\boldsymbol{\\Delta}_{q}-\\boldsymbol{\\omega}\\times\\boldsymbol{r}_{q} \\right|}{\\sigma}\\right)\n",
    "$$\n",
    "\n",
    "$$\n",
    "    \\rho(x) = -\\ln \n",
    "    \\left(\n",
    "    \\frac{\\gamma_{*}}{2\\pi\\sigma^2}\\ e^{-x^2/2} \\,+\\, \\frac{1\\!-\\!\\gamma_{*}}{\\Omega}\n",
    "    \\right).\n",
    "$$"
   ]
  },
  {
   "cell_type": "markdown",
   "metadata": {},
   "source": [
    "- $\\textbf{c}_q$: q-th calibrator direction\n",
    "- $\\textbf{r}_q$: q-th source direction of the image (to be corrected)\n",
    "- $\\boldsymbol{\\Delta}_q = \\textbf{c}_q - \\textbf{r}_q$: seperation between q-th source-calibrator\n",
    "- $\\boldsymbol{\\omega}$: 3-D rotation vector\n",
    "- $\\sigma$:  astrometric  uncertainty\n",
    "- $\\gamma$: probability of being a true association\n",
    "- $\\gamma_{*} = \\frac{\\min (N_1, N_2)}{N}$; N=total number of pairs, N1=number of sources in input catalog, N2=number of sources in reference catalog.\n",
    "- $\\Omega$: footprint area (steradians) "
   ]
  },
  {
   "cell_type": "markdown",
   "metadata": {},
   "source": [
    "Solve for $\\tilde{\\boldsymbol{\\omega}}$ using $A\\tilde{\\boldsymbol{\\omega}} = \\textbf{b}$ with\n",
    "\n",
    "\\begin{equation}\n",
    "\\begin{array}{ccc}\n",
    "    A =\\displaystyle \\sum_{q} \\frac{w_{q}}{\\sigma^{2}}\n",
    "    \\left(I-\\boldsymbol{r}_{q}\\!\\otimes\\boldsymbol{r}_{q}\\right) & \\textrm{and} &\n",
    "    b = \\displaystyle \\sum_{q}\n",
    "    \\frac{w_{q}}{\\sigma^{2}}\n",
    "    \\left(\\boldsymbol{r}_{q}\\!\\times\\boldsymbol{c}_{q}\\right) \n",
    "\\end{array}\n",
    "\\end{equation}\n",
    "\n",
    "\\begin{equation*}\n",
    "\\begin{aligned}\n",
    "    \\text{Weight function: }\n",
    "    w_q=W(x) &= \\frac{\\rho'(x)}{x}\n",
    "          = \\frac{\\alpha e^{-x^2/2}}{\\alpha e^{-x^2/2}+1}\\\\\n",
    "  \\alpha &= \\frac{\\Omega}{2 \\pi \\sigma^2} \\frac{\\gamma_{*}}{(1-\\gamma_{*})}\n",
    "\\end{aligned}\n",
    "\\end{equation*}"
   ]
  },
  {
   "cell_type": "markdown",
   "metadata": {},
   "source": [
    "**Robust solver output:** \n",
    "- omega: estimated rotation vector\n",
    "- pair: pairs in the optimal ring"
   ]
  },
  {
   "cell_type": "markdown",
   "metadata": {},
   "source": [
    "**Input parameters** <br>\n",
    "- area: side length of the image is 202 arcsec \n",
    "- radius: initial search radius\n",
    "- sigma: actual astrometric uncertainty of the catalog, 0.04 arcsec\n",
    "- gamma: fraction of true pairs (unknown, approximate)\n",
    "- ringwidth: assign ring width to 0.2 arcsec (empirical value)\n",
    "- sigma_init: assign an initial sigma to 0.4 arcsec \n",
    "- niter: minimum number of iterations for convergence = 10\n",
    "- nextr: maximum additional number of iterations = 100\n",
    "- mid: use midpoints of the two catalogs as reference"
   ]
  },
  {
   "cell_type": "markdown",
   "metadata": {},
   "source": [
    "**Estimate Omega using Robust Ring Algorithm Version2**\n",
    "\n",
    "Version-2 Algorithm divides all pairs into equal number of pairs in rings, and performs esimation in each ring. In this version, $\\gamma$ is taken as the global value $$\\gamma_* = \\frac{\\min(N_0,N_1)}{N_{pairs}}$$."
   ]
  },
  {
   "cell_type": "code",
   "execution_count": null,
   "metadata": {},
   "outputs": [],
   "source": [
    "t0=time.time()\n",
    "\n",
    "# image area in steradians\n",
    "area=(202/arc2rad)**2\n",
    "\n",
    "# estimate omega, and obtain pairs in the optimal ring\n",
    "bestomega, bestpairs, bestwts = est.robust_ring(co[0], co[1], area, radius, sigma=0.04,\n",
    "                                   sigma_init=4,\n",
    "                                   niter=50, nextr=100, mid=True, printerror=False)\n",
    "\n",
    "print(\"Total {:.3f} seconds to complete estimation\".format(time.time()-t0))"
   ]
  },
  {
   "cell_type": "markdown",
   "metadata": {},
   "source": [
    "### 2.3 Solve for $\\boldsymbol{\\omega}$ using the least-squares algorithm\n",
    "\n",
    "Apply the least-squares method on pairs in the optimal ring.\n",
    "\n",
    "<font color=\"red\">Note this is really optimistic for the L2 method since it has no way to determine the\n",
    "    best ring.</font>"
   ]
  },
  {
   "cell_type": "code",
   "execution_count": null,
   "metadata": {},
   "outputs": [],
   "source": [
    "L2omega = est.L2_est(co[0], co[1], bestpairs, sigma=0.04)"
   ]
  },
  {
   "cell_type": "markdown",
   "metadata": {},
   "source": [
    "### 2.4 Plot Catalogs"
   ]
  },
  {
   "cell_type": "code",
   "execution_count": null,
   "metadata": {},
   "outputs": [],
   "source": [
    "cat_cor_rob = [sim.trf(co[0],bestomega), sim.trf(co[1],-bestomega)]\n",
    "cat_cor_L2 = [sim.trf(co[0],L2omega), sim.trf(co[1],-L2omega)]"
   ]
  },
  {
   "cell_type": "code",
   "execution_count": null,
   "metadata": {},
   "outputs": [],
   "source": [
    "fig=plt.figure(figsize=(20,6))\n",
    "\n",
    "fig.add_subplot(131)\n",
    "plt.scatter(co[0].x*arc2rad, co[0].y*arc2rad, s=10, alpha=0.3)\n",
    "plt.scatter(co[1].x*arc2rad, co[1].y*arc2rad, s=10, alpha=0.3)\n",
    "plt.xlim(-50,250)\n",
    "plt.ylim(-50,250)\n",
    "plt.title(\"ORIGINAL\")\n",
    "\n",
    "fig.add_subplot(132)\n",
    "plt.scatter(cat_cor_rob[0].x*arc2rad, cat_cor_rob[0].y*arc2rad, s=10, alpha=0.4)\n",
    "plt.scatter(cat_cor_rob[1].x*arc2rad, cat_cor_rob[1].y*arc2rad, s=10, alpha=0.4)\n",
    "plt.title(\"ROBUST METHOD\")\n",
    "print(\"Initial average offset: {:.3f} arcsec\" .format(sim.getsep(co[0],co[1],\"mean\")))\n",
    "print(\"Average offset after correction - ROBUST: {:.3f} arcsec\" .format(sim.getsep(cat_cor_rob[0], cat_cor_rob[1],\"mean\")))\n",
    "\n",
    "fig.add_subplot(133)\n",
    "plt.scatter(cat_cor_L2[0].x*arc2rad, cat_cor_L2[0].y*arc2rad, s=10, alpha=0.4)\n",
    "plt.scatter(cat_cor_L2[1].x*arc2rad, cat_cor_L2[1].y*arc2rad, s=10, alpha=0.4)\n",
    "plt.title(\"L2 METHOD\")\n",
    "print(\"Average offset after correction - L2: {:.3f} arcsec\" .format(sim.getsep(cat_cor_L2[0],cat_cor_L2[1],\"mean\")))\n",
    "plt.show()"
   ]
  },
  {
   "cell_type": "markdown",
   "metadata": {},
   "source": [
    "## Part 2. The HLA/Gaia Catalogs Cross-registration\n",
    "**Adapted from 3/29/2019 - Rick White**"
   ]
  },
  {
   "cell_type": "markdown",
   "metadata": {},
   "source": [
    "## 1. Read Data\n",
    "### 1.1 Set parameters for a visit\n",
    "\n",
    "- `imagename` = name of HLA dataset\n",
    "- `radius` = maximum shift radius to search (arcsec)\n",
    "- `requirePM` = True to require Gaia proper motions (must be False some cluster fields)\n",
    "- `limitGaia` = True to restrict the number of Gaia sources to ~200\n",
    "- `flagcut` = maximum flag value to include in HLA catalog (5=all, 1=unsat, 0=stellar unsat)"
   ]
  },
  {
   "cell_type": "code",
   "execution_count": null,
   "metadata": {},
   "outputs": [],
   "source": [
    "# list of test images\n",
    "# imagename = 'hst_9984_nl_acs_wfc' # far north with rotation\n",
    "# imagename = 'hst_9984_ni_acs_wfc' # far north with rotation\n",
    "imagename = 'hst_11664_22_wfc3_uvis' # big 90\" shift\n",
    "# imagename = 'hst_10775_a7_acs_wfc' # challenging image with large catalogs\n",
    "\n",
    "radius = 120.0\n",
    "requirePM = True\n",
    "limitGaia = False\n",
    "flagcut = 5"
   ]
  },
  {
   "cell_type": "markdown",
   "metadata": {},
   "source": [
    "### 1.2 Read the HLA catalog for a dataset\n",
    "\n",
    "This also applies a magnitude cut to keep only sources brighter than magnitude 22 that might match Gaia sources."
   ]
  },
  {
   "cell_type": "code",
   "execution_count": null,
   "metadata": {},
   "outputs": [],
   "source": [
    "# save some time if we already have the correct catalog\n",
    "# use cache to store results so repeated queries are fast\n",
    "if 'current_imagename' in locals() and current_imagename == imagename:\n",
    "    print('Already read catalog for',imagename)\n",
    "else:\n",
    "    current_imagename = None\n",
    "    imacat = rcat.getmultiwave(imagename)\n",
    "    current_imagename = imagename\n",
    "    print(\"Read {} sources for {}\".format(len(imacat),imagename))\n",
    "\n",
    "    # use only objects brighter than mag 22\n",
    "    # select brightest of all mags\n",
    "    magcols = []\n",
    "    flagcols = []\n",
    "    for col in imacat.colnames:\n",
    "        if col.endswith('magauto'):\n",
    "            magcols.append(col)\n",
    "        elif col.endswith('_flags'):\n",
    "            flagcols.append(col)\n",
    "    if not magcols:\n",
    "        raise ValueError(\"No magnitude columns found in catalog\")\n",
    "    if len(magcols) != len(flagcols):\n",
    "        raise ValueError(\"Mismatch between magcols [{}] and flags [{}]?\".format(\n",
    "            len(magcols),len(flagcols)))\n",
    "    print(\"Magnitudes {}\".format(\" \".join(magcols)))\n",
    "    mags = imacat[magcols[0]]\n",
    "    for col in magcols[1:]:\n",
    "        mags = np.minimum(mags,imacat[col])\n",
    "    #    mags = np.maximum(mags,cat[col])\n",
    "    flags = imacat[flagcols[0]]\n",
    "    for col in flagcols[1:]:\n",
    "        flags = np.minimum(flags,imacat[col])"
   ]
  },
  {
   "cell_type": "markdown",
   "metadata": {},
   "source": [
    "### 1.3 Read the Gaia catalog with padding to allow for large shifts\n",
    "\n",
    "The Gaia search box is expanded by 2 arcmin on all sides to allow for the possibility of a shift that large."
   ]
  },
  {
   "cell_type": "code",
   "execution_count": null,
   "metadata": {},
   "outputs": [],
   "source": [
    "mdec = imacat['dec'].mean()\n",
    "mra = imacat['ra'].mean()\n",
    "cdec = np.cos(rcat.d2r*mdec)\n",
    "\n",
    "# always pad using search radius 120.0 so we can reuse the result\n",
    "gradius = max(60.0,radius)\n",
    "\n",
    "# pad by 1.1*search radius on each side\n",
    "pad = 1.1*gradius/3600.0\n",
    "rpad = pad/cdec\n",
    "ramin = imacat['ra'].min() - rpad\n",
    "ramax = imacat['ra'].max() + rpad\n",
    "decmin = imacat['dec'].min() - pad\n",
    "decmax = imacat['dec'].max() + pad\n",
    "new_params = (ramin,ramax,decmin,decmax)\n",
    "\n",
    "if 'gcat_params' in locals() and gcat_params == new_params:\n",
    "    print('Already read Gaia catalog for {} ({} sources)'.format(imagename,len(gcat_all)))\n",
    "else:\n",
    "    gcat_params = None\n",
    "    gcat_all = rcat.gaiaquery(ramin,decmin,ramax,decmax)\n",
    "    gcat_params = new_params\n",
    "    print(\"Read {} Gaia sources\".format(len(gcat_all)))\n",
    "\n",
    "gcat = gcat_all\n",
    "\n",
    "# compute ratio of area covered by data to extended area\n",
    "area_rat = (ramax-ramin-2*rpad)*(decmax-decmin-2*pad)/((ramax-ramin)*(decmax-decmin))\n",
    "\n",
    "if requirePM:\n",
    "    # keep only objects with proper motions\n",
    "    gcat = gcat[~gcat['pmra'].mask]\n",
    "    print(\"Keeping {} Gaia sources with measured PMs\".format(len(gcat)))\n",
    "\n",
    "    # apply proper motions\n",
    "    epoch_yr = rcat.getepoch(imagename)\n",
    "    # make reference epoch a scalar if possible\n",
    "    ref_epoch = gcat['ref_epoch']\n",
    "    if (ref_epoch == ref_epoch.mean()).all():\n",
    "        ref_epoch = ref_epoch[0]\n",
    "    dt = epoch_yr-ref_epoch\n",
    "    print(\"Updating gcat for {:.1f} yrs of PM\".format(-dt))\n",
    "    # PM fields are in mas/yr\n",
    "    gcat.ra = gcat['ra'] + gcat['pmra']*(dt/(3600.0e3*np.cos(rcat.d2r*gcat['dec'])))\n",
    "    gcat.dec = gcat['dec'] + gcat['pmdec']*(dt/3600.0e3)\n",
    "else:\n",
    "    print(\"No Gaia PMs are used, all Gaia sources are retained\")\n",
    "\n",
    "# if number of Gaia sources is large, select just a subset of the fainter sources\n",
    "# aim for about 200 sources within the field\n",
    "if limitGaia:\n",
    "    ngmax = int(round(200/area_rat))\n",
    "    if len(gcat) > ngmax:\n",
    "        print(\"Clipping to faintest\",ngmax,\"Gaia sources\")\n",
    "        gcat.sort('phot_g_mean_mag')\n",
    "        gcat = gcat[-ngmax:]\n",
    "gcat[:5]"
   ]
  },
  {
   "cell_type": "markdown",
   "metadata": {},
   "source": [
    "### 1.4 Restrict the HLA catalog to sources close to the Gaia magnitude limit\n",
    "\n",
    "For a typical Gaia field, the magnitude cut is about 22.  Some Gaia fields have a much brighter limit, which raises the magnitude cut. <br/>\n",
    "This also applies a cut on flags if flagcut is set."
   ]
  },
  {
   "cell_type": "code",
   "execution_count": null,
   "metadata": {},
   "outputs": [],
   "source": [
    "gmaglim = gcat['phot_g_mean_mag'].max()\n",
    "magcut = min(gmaglim + 1.2, 22.0)\n",
    "print('Gaia mag limit {:.3f} -> HLA magnitude cut {}'.format(gmaglim,magcut))\n",
    "\n",
    "# forcing this cut to see how this affects wider radius searches\n",
    "if (mags <= magcut).sum() > 1000:\n",
    "    magcut = 17.0\n",
    "    print('XXX Forcing HLA magnitude cut {} XXX'.format(magcut))\n",
    "\n",
    "wcut = np.where((mags <= magcut) & (flags <= flagcut))\n",
    "bcat = imacat[wcut]\n",
    "bmags = mags[wcut]\n",
    "bflags = flags[wcut]\n",
    "print(\"{} sources left after cut at mag {}, flags <= {}\".format(len(bcat),magcut,flagcut))\n",
    "bcat[:5]"
   ]
  },
  {
   "cell_type": "markdown",
   "metadata": {},
   "source": [
    "### 1.5 Plot positions on sky"
   ]
  },
  {
   "cell_type": "code",
   "execution_count": null,
   "metadata": {},
   "outputs": [],
   "source": [
    "plt.rcParams.update({'font.size':14})\n",
    "plt.figure(figsize=(8,8))\n",
    "plt.plot(bcat['ra'],bcat['dec'],'ro',alpha=0.3,markersize=4,label='HLA')\n",
    "plt.plot(gcat['ra'],gcat['dec'],'bo',alpha=0.3,markersize=4,label='Gaia')\n",
    "plt.xlabel('RA [deg]')\n",
    "plt.ylabel('Dec [deg]')\n",
    "plt.title(imagename)\n",
    "plt.legend(loc=3);"
   ]
  },
  {
   "cell_type": "markdown",
   "metadata": {},
   "source": [
    "## 2. Matched pairs within an initial search radius\n",
    "#### Find all pairs that match within _radius_ arcsec."
   ]
  },
  {
   "cell_type": "code",
   "execution_count": null,
   "metadata": {},
   "outputs": [],
   "source": [
    "## Convert positions to Cartesian xyz coordinates \n",
    "# a = catalog to shift (the HLA catalog) \n",
    "# b = reference catalog (Gaia)\n",
    "a = rcat.cat2xyz(bcat)\n",
    "b = rcat.cat2xyz(gcat)\n",
    "\n",
    "print(f\"{a.shape[0]:d} sources in HLA and {b.shape[0]:d} sources in Gaia\")"
   ]
  },
  {
   "cell_type": "markdown",
   "metadata": {},
   "source": [
    "## 3. Use robust solver to estimate rotation of the HLA catalog to the reference\n",
    "**Input parameters** <br>\n",
    "- area: side length of the image is 202 arcsec\n",
    "- sigma: astrometric uncertainly is 0.02 arcsec\n",
    "- sigma_init: assign an initial sigma to 1 arcsec \n",
    "- gamma: fraction of true pairs (unknown, approximate)\n",
    "- niter: minimum number of iterations for convergence, 10 \n",
    "- nextr: maximum number of additional iterations, 100 \n",
    "- ringwidth: 0.3 arcsec ring width\n",
    "- mid: False, reference is the Gaia catalog"
   ]
  },
  {
   "cell_type": "code",
   "execution_count": null,
   "metadata": {},
   "outputs": [],
   "source": [
    "t0=time.time()\n",
    "area = (202/arc2rad)**2\n",
    "radius = 120\n",
    "print(f\"Match to radius {radius} arcsec\")\n",
    "\n",
    "omega_HLA, pairs_HLA, wts_HLA = est.robust_ring(a, b, area, radius, sigma=0.01,\n",
    "                                     sigma_init=1, niter=10, nextr=100, \n",
    "                                     mid=False, printerror=False)\n",
    "\n",
    "print(\"Total {:.3f} seconds to complete estimation\".format(time.time()-t0))"
   ]
  },
  {
   "cell_type": "markdown",
   "metadata": {},
   "source": [
    "## 4. Plot to show catalog separation before and after correction\n",
    "\n",
    "The top two panels show a zoomed-out view (over a region +- 5 arcsec) while the bottom two are zoomed in (over a region +- 0.12 arcsec).  The left plot shows the original distribution (note it is centered far from zero) while the right is after applying the correction from the robust match (centered on zero).  Note that the scale is identical in the left and right panels.\n",
    "\n",
    "Points with weights $w_q > 0.5$ are shown in red.  Those are the \"true\" matches."
   ]
  },
  {
   "cell_type": "code",
   "execution_count": null,
   "metadata": {},
   "outputs": [],
   "source": [
    "# Sort pairs for plot\n",
    "sep = np.sqrt(((a[pairs_HLA[:,0]]-b[pairs_HLA[:,1]])**2).sum(axis=1))*arc2rad\n",
    "ind = np.argsort(sep)\n",
    "sep = sep[ind]\n",
    "pairs_HLA = pairs_HLA[ind,:]\n",
    "wts_HLA = wts_HLA[ind]"
   ]
  },
  {
   "cell_type": "code",
   "execution_count": null,
   "metadata": {},
   "outputs": [],
   "source": [
    "wmatch = np.where(wts_HLA>0.5)[0]\n",
    "print('total pairs =', len(wts_HLA), 'sum wts =', wts_HLA.sum(), 'matched pairs =', len(wmatch))\n",
    "print(a.shape, b.shape)\n",
    "\n",
    "# first use only good pairs to get limits for plot\n",
    "p0 = pairs_HLA[wmatch,0]\n",
    "p1 = pairs_HLA[wmatch,1]\n",
    "ra1 = bcat['ra'][p0]\n",
    "dec1 = bcat['dec'][p0]\n",
    "gra = gcat['ra'][p1]\n",
    "gdec = gcat['dec'][p1]\n",
    "\n",
    "rr = rcat.radec2xyz(ra1,dec1)\n",
    "ra2, dec2 = rcat.xyz2radec(rr + np.cross(omega_HLA,rr))\n",
    "\n",
    "dra1, ddec1 = rcat.getdeltas(ra1,dec1,gra,gdec)\n",
    "dra2, ddec2 = rcat.getdeltas(ra2,dec2,gra,gdec)\n",
    "\n",
    "# center shifted plot at zero and use the same range in arcsec for both plots\n",
    "xcen1 = np.ma.median(dra1)\n",
    "ycen1 = np.ma.median(ddec1)\n",
    "xcen2 = 0.0\n",
    "ycen2 = 0.0\n",
    "\n",
    "# plot both good pairs and bad pairs near the match\n",
    "p0 = pairs_HLA[:,0]\n",
    "p1 = pairs_HLA[:,1]\n",
    "ra1 = bcat['ra'][p0]\n",
    "dec1 = bcat['dec'][p0]\n",
    "gra = gcat['ra'][p1]\n",
    "gdec = gcat['dec'][p1]\n",
    "rr = rcat.radec2xyz(ra1,dec1)\n",
    "ra2, dec2 = rcat.xyz2radec(rr + np.cross(omega_HLA,rr))\n",
    "dra1, ddec1 = rcat.getdeltas(ra1,dec1,gra,gdec)\n",
    "dra2, ddec2 = rcat.getdeltas(ra2,dec2,gra,gdec)\n",
    "\n",
    "# transparency for box around legend\n",
    "framealpha = 0.95\n",
    "\n",
    "plt.figure(1,(12,12))\n",
    "\n",
    "xsize = 5.0\n",
    "xlims1 = (xcen1-xsize, xcen1+xsize)\n",
    "ylims1 = (ycen1-xsize, ycen1+xsize)\n",
    "xlims2 = (xcen2-xsize, xcen2+xsize)\n",
    "ylims2 = (ycen2-xsize, ycen2+xsize)\n",
    "# points to plot\n",
    "wp = np.where(\n",
    "    ((dra1>=xlims1[0]) & (dra1<=xlims1[1]) & (ddec1>=ylims1[0]) & (ddec1<=ylims1[1])) |\n",
    "    ((dra2>=xlims2[0]) & (dra2<=xlims2[1]) & (ddec2>=ylims2[0]) & (ddec2<=ylims2[1]))\n",
    "    )[0]\n",
    "wgood = wp[wts_HLA[wp]>=0.5]\n",
    "wbad = wp[wts_HLA[wp]<0.5]\n",
    "print(\"{} good points {} bad points\".format(len(wgood),len(wbad)))\n",
    "\n",
    "plt.subplot(221)\n",
    "plt.plot(dra1[wbad], ddec1[wbad], 'ko', markersize=2, label='original')\n",
    "plt.plot(dra1[wgood], ddec1[wgood], 'ro', markersize=2, label=r'$w_q \\geq 0.5$')\n",
    "plt.ylabel('$\\Delta$Dec [arcsec]')\n",
    "plt.xlabel('$\\Delta$RA [arcsec]')\n",
    "plt.plot(xlims1,[0,0], 'g-', linewidth=0.5)\n",
    "plt.plot([0,0], ylims1, 'g-', linewidth=0.5)\n",
    "plt.xlim(xlims1)\n",
    "plt.ylim(ylims1)\n",
    "plt.legend(loc='upper left',framealpha=framealpha)\n",
    "\n",
    "plt.subplot(222)\n",
    "plt.plot(dra2[wbad], ddec2[wbad], 'ko', markersize=2, label='robust')\n",
    "plt.plot(dra2[wgood], ddec2[wgood], 'ro', markersize=2, label=r'$w_q \\geq 0.5$')\n",
    "plt.xlabel('$\\Delta$RA [arcsec]')\n",
    "plt.plot(xlims2,[0,0], 'g-', linewidth=0.5)\n",
    "plt.plot([0,0], ylims2, 'g-', linewidth=0.5)\n",
    "plt.xlim(xlims2)\n",
    "plt.ylim(ylims2)\n",
    "plt.legend(loc='upper left',framealpha=framealpha)\n",
    "\n",
    "xsize = 0.12\n",
    "xlims1 = (xcen1-xsize, xcen1+xsize)\n",
    "ylims1 = (ycen1-xsize, ycen1+xsize)\n",
    "xlims2 = (xcen2-xsize, xcen2+xsize)\n",
    "ylims2 = (ycen2-xsize, ycen2+xsize)\n",
    "# points to plot\n",
    "wp = np.where(\n",
    "    ((dra1>=xlims1[0]) & (dra1<=xlims1[1]) & (ddec1>=ylims1[0]) & (ddec1<=ylims1[1])) |\n",
    "    ((dra2>=xlims2[0]) & (dra2<=xlims2[1]) & (ddec2>=ylims2[0]) & (ddec2<=ylims2[1]))\n",
    "    )[0]\n",
    "wgood = wp[wts_HLA[wp]>=0.5]\n",
    "wbad = wp[wts_HLA[wp]<0.5]\n",
    "print(\"{} good points {} bad points\".format(len(wgood),len(wbad)))\n",
    "\n",
    "plt.subplot(223)\n",
    "plt.plot(dra1[wgood], ddec1[wgood], 'ro', markersize=2, label='original')\n",
    "plt.plot(dra1[wbad], ddec1[wbad], 'ko', markersize=2)\n",
    "plt.ylabel('$\\Delta$Dec [arcsec]')\n",
    "plt.xlabel('$\\Delta$RA [arcsec]')\n",
    "plt.xlim(xlims1)\n",
    "plt.ylim(ylims1)\n",
    "plt.legend(loc='upper left',framealpha=framealpha)\n",
    "\n",
    "plt.subplot(224)\n",
    "plt.plot(dra2[wgood], ddec2[wgood], 'ro', markersize=2, label='robust')\n",
    "plt.plot(dra2[wbad], ddec2[wbad], 'ko', markersize=2)\n",
    "plt.xlabel('$\\Delta$RA [arcsec]')\n",
    "plt.plot(xlims2,[0,0], 'g-', linewidth=0.5)\n",
    "plt.plot([0,0], ylims2, 'g-', linewidth=0.5)\n",
    "plt.xlim(xlims2)\n",
    "plt.ylim(ylims2)\n",
    "plt.legend(loc='upper left',framealpha=framealpha,\n",
    "             title='rms = {:.0f} mas'.format(\n",
    "                 1000*np.sqrt((dra2[wgood]**2+ddec2[wgood]**2).mean())));"
   ]
  },
  {
   "cell_type": "markdown",
   "metadata": {},
   "source": [
    "Note in the above example that not only was a large shift corrected, but there also was a small rotation corrected.  That is why the point distribution is much tighter after the correction has been applied."
   ]
  },
  {
   "cell_type": "code",
   "execution_count": null,
   "metadata": {},
   "outputs": [],
   "source": []
  }
 ],
 "metadata": {
  "file_extension": ".py",
  "kernelspec": {
   "display_name": "Python 3",
   "language": "python",
   "name": "python3"
  },
  "language_info": {
   "codemirror_mode": {
    "name": "ipython",
    "version": 3
   },
   "file_extension": ".py",
   "mimetype": "text/x-python",
   "name": "python",
   "nbconvert_exporter": "python",
   "pygments_lexer": "ipython3",
   "version": "3.7.4"
  },
  "mimetype": "text/x-python",
  "name": "python",
  "npconvert_exporter": "python",
  "pygments_lexer": "ipython3",
  "version": 3
 },
 "nbformat": 4,
 "nbformat_minor": 4
}
